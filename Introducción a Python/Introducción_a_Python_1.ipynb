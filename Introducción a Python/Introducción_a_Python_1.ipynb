{
 "cells": [
  {
   "cell_type": "raw",
   "metadata": {
    "id": "yT7SLuBB9k8W"
   },
   "source": [
    "<h1> <b> Introducción a Python I - Sintaxis y variables en Python </b> </h1>\n",
    "\n",
    "#Hola mundo\n",
    "\n",
    "`print(\"Hola mundo\")`\n",
    "\n",
    "##Ejecutar archivos de Python en consola\n",
    "\n",
    "`c:\\Users\\*Nombre de usuario*>python helloworld.py`\n",
    "\n",
    "Donde:\n",
    "`helloworld.py` es el nombre del archivo de Python.\n",
    "\n",
    "Suponiendo que el archivo `helloworld.py` contiene la línea `print(\"Hola mundo\")`, al ejecutar el archivo desde la consola, se ejecuta la siguiente línea:\n",
    "\n",
    "`Hola mundo`\n",
    "\n",
    "###**Ejercicio 1**\n",
    "Usar el comando `print` para imprimir su nombre."
   ]
  },
  {
   "cell_type": "code",
   "execution_count": null,
   "metadata": {
    "id": "WPFMAzlR-r4t"
   },
   "outputs": [],
   "source": [
    "#Ejercicio 1\n"
   ]
  },
  {
   "cell_type": "markdown",
   "metadata": {
    "id": "b1_blMsbAI_D"
   },
   "source": [
    "#Sintaxis de Python:\n",
    "\n",
    "La sintaxis de Python puede ser ejecutada de dos formas:\n",
    "* Directamente desde la línea de código.\n",
    "* En un archivo de texto de Python *.py.\n",
    "\n",
    "##Sangría (indentation):\n",
    "\n",
    "La sangría hace referencia al espacio al inicio de una línea de código.\n",
    "\n",
    "Cuando para otros lenguajes de programación la sangría se usa para la lectura y la organización únicamente, para Python, la sangría es muy importante.\n",
    "\n",
    "En Python, la sangría se usa para indicar un bloque de código. Como por ejemplo en Java se usan los corchetes `{}`.\n",
    "\n",
    "###Ejemplo 1:\n",
    "Uso de la sangría en un bloque de código:\n",
    "```\n",
    "if 8 > 7:\n",
    "  print(\"Ocho es mayor que siete\")\n",
    "```\n",
    "\n",
    "**Nota:** *Si no se usa la sangría en los bloques de código, Python generará un error*\n",
    "\n",
    "###**Ejercicio 2**:\n",
    "Corregir el error en el siguiente código:"
   ]
  },
  {
   "cell_type": "code",
   "execution_count": null,
   "metadata": {
    "id": "ZXlCNVcbCZPm"
   },
   "outputs": [],
   "source": [
    "#Ejercicio 2\n",
    "#Corregir el error de sintaxis del siguiente código:\n",
    "\n",
    "a = 1\n",
    "b = 5\n",
    "\n",
    "if a<b:\n",
    "  print(\"Uno es menor que cinco\")\n"
   ]
  },
  {
   "cell_type": "markdown",
   "metadata": {
    "id": "J5ylw8IiESFn"
   },
   "source": [
    "###Ejemplo 2:\n",
    "El programador es quien indica el número de espacios para la sangría, generalmente son 4, sin embargo, se puede colocar como sangría por lo menos un espacio.\n",
    "\n",
    "```\n",
    "if 5>2:\n",
    "    print(\"Cinco es mayor que dos\")\n",
    "```\n",
    "\n",
    "**Nota:** *Una vez decidido el número de espacios para la sangría, este debe ser igual en el mismo bloque de código, de lo contrario, se generará un error.*\n",
    "\n",
    "###Ejemplo 3:\n",
    "\n",
    "```\n",
    "if 8>7:\n",
    "  print(\"hola\")\n",
    "    print(\"hello\")\n",
    "```\n",
    "Este código generará un error de sintaxis."
   ]
  },
  {
   "cell_type": "markdown",
   "metadata": {
    "id": "uQIKV71yqLp-"
   },
   "source": [
    "#Declaración de variables en Python\n",
    "\n",
    "Las variables en Python se crean en el momento en el que se les asigna un valor a éstas.\n",
    "\n",
    "###Ejemplo 4:\n",
    "```\n",
    "x = 5             #Esta variable es de tipo int (entero)\n",
    "y = \"Hola mundo\"  #Esta variable es de tipo str (cadena de caracteres)\n",
    "z = False         #Esta variable es de tipo bool (booleano)\n",
    "```\n",
    "\n",
    "Phyton no usa ningún comando para declarar variables.\n",
    "\n",
    "Sin embargo, **es posibe especificar el tipo de dato de una variable** creada.\n",
    "\n",
    "###Ejemplo 5:\n",
    "\n",
    "```\n",
    "x = str(3)\n",
    "y = int(3)\n",
    "z = float(3)\n",
    "```\n",
    "\n",
    "###**Ejercicio 3**\n",
    "\n",
    "Imprimir los valores de `x`, `y` y `z` del ejemplo 5.\n"
   ]
  },
  {
   "cell_type": "code",
   "execution_count": null,
   "metadata": {
    "id": "A8T_LvSnunjz"
   },
   "outputs": [],
   "source": [
    "#Ejercicio 3\n",
    "#Imprimir los valores de x, y y z del ejemplo 5."
   ]
  },
  {
   "cell_type": "markdown",
   "metadata": {
    "id": "dLctRI4YvWlP"
   },
   "source": [
    "##Identificar el tipo de dato de una variable\n",
    "\n",
    "A través de la función `type()`, es posible identificar el tipo de variable a la que pertenece una variable.\n",
    "\n",
    "###Ejemplo 6:\n",
    "```\n",
    "x = 3.35\n",
    "nombre = 'Laura'\n",
    "print(type(x))\n",
    "print(type(nombre))\n",
    "```"
   ]
  },
  {
   "cell_type": "code",
   "execution_count": null,
   "metadata": {
    "id": "Xyle66Hdv6uE"
   },
   "outputs": [],
   "source": [
    "#Ejecutar el siguiente código y verificar el tipo de cada una de las variables declaradas.\n",
    "\n",
    "x = 3.35\n",
    "nombre = 'Laura'\n",
    "resultado = True\n",
    "print(type(x))\n",
    "print(type(nombre))\n",
    "print(type(resultado))"
   ]
  },
  {
   "cell_type": "markdown",
   "metadata": {
    "id": "e8Z0yT6o27Yi"
   },
   "source": [
    "##Uso de comillas simples y dobles\n",
    "\n",
    "Las variables de tipo cadena de caracteres `str` pueden ser declaradas ya sea haciendo uso de comillas simples `'` o comillas dobles `\"`.\n",
    "\n",
    "###Ejemplo 7:\n",
    "```\n",
    "nombre1 = 'Miguel'\n",
    "nombre2 = \"Miguel\"\n",
    "```\n",
    "En este caso, las dos variables imprimen la misma cadena de caracteres.\n",
    "\n",
    "###**Ejercicio 4**\n",
    "Imprimir los valores de `nombre1` y `nombre2` del ejemplo 7 y verificar los resultados."
   ]
  },
  {
   "cell_type": "code",
   "execution_count": null,
   "metadata": {
    "id": "p6PeH8JQ3uPB"
   },
   "outputs": [],
   "source": [
    "#Ejercicio 4\n",
    "#Imprimir los dos valores y verificar el resultado:\n",
    "nombre1 = 'Miguel'\n",
    "nombre2 = \"Miguel\""
   ]
  },
  {
   "cell_type": "markdown",
   "metadata": {
    "id": "OlbmtK9I4g2l"
   },
   "source": [
    "##Nombrado de Variables\n",
    "El nombre de una variable puede ser un nombre corto (por ejemplo, `x`, `y` o `z`) o un nombre más descriptivo (por ejemplo, `nombre`, `edad`, `DocumentoDeIdentidad`, `Nota_Definitiva`, etc)\n",
    "\n",
    "###**Reglas para nombrar variables en Python**\n",
    "Los nombres de las variables:\n",
    "1. Deben comenzar con una *letra* o un guión bajo `_`.\n",
    "2. No puede comenzar con un número.\n",
    "3. Sólo puede contener caracteres alfanuméricos y guiones bajos (`A-z`, `0-9` y `_`).\n",
    "4. Hace distinción entre mayúsculas y minúsculas.\n",
    "5. No puede ser cualquiera de las palabras claves en Python (por ejemplo, `import`, `def`, `type`, `int`, etc, no pueden ser nombres de variables).\n",
    "\n",
    "###Ejemplo 8:\n",
    "Nombres válidos de variables:\n",
    "```\n",
    "miVariable = \"Hola mundo\"\n",
    "MiVariable2 = \"Hola mundo\"\n",
    "_mi_variable = \"Hola mundo\"\n",
    "```\n",
    "\n",
    "###Ejemplo 9:\n",
    "Nombres ilegales de variables:\n",
    "```\n",
    "2MiVariable = \"Hola mundo\"\n",
    "mi-variable = \"Hola mundo\"\n",
    "mi variable = \"Hola mundo\"\n",
    "\n",
    "#En estos tres casos se generará un error de sintaxis\n",
    "```\n",
    "\n",
    "###**Nombres de variables con más de una palabra**\n",
    "\n",
    "Los nombres de variables que contienen más de una palabra pueen ser difíciles de leer, por tanto, algunas técnicas o estilos se recomiendan en el caso de tener nombres de variables con múltiples palabras.\n",
    "\n",
    "* **Camel case:** Cada palabra comienza con mayúscula, excepto la primera. `nombreDelEstudiante = \"Juan\"`.\n",
    "* **Pascal case:** Todas las palabras empiezan con mayúscula. `NombreDelEstudiante = \"Juan\"`.\n",
    "* **Snake case:** Cada palabra es separada por un guión bajo `_`. `Nombre_del_estudiante = \"Juan\"`, `NOMBRE_DEL_ESTUDIANTE = \"Juan\"`, `nombre_del_estudiante = \"Juan\"`, etc.\n",
    "\n",
    "\n",
    "###**Distinción entre mayúsculas y minúsculas**\n",
    "\n",
    "En Python, la declaración de variables sí distingue entre mayúsculas y minúsculas.\n",
    "\n",
    "###Ejemplo 10:\n",
    "\n",
    "En este caso para Python aunque las variables tienen el mismo nombre, son diferentes.\n",
    "\n",
    "```\n",
    "midato = 4.0\n",
    "miDato = 4\n",
    "MiDato = \"Hola mundo\"\n",
    "MIDATO = True\n",
    "mIDATO = CC12345\n",
    "```\n",
    "\n",
    "En este ejemplo se han declarado 5 variables diferentes.\n",
    "\n",
    "##Asignar múltiples valores a muchas variables\n",
    "\n",
    "En Python, es posible asignar valores a múltiples variables en una misma línea.\n",
    "\n",
    "###Ejemplo 11:\n",
    "```\n",
    "f1, f2, f3 = \"Manzana\", \"Naranja\", \"Plátano\"\n",
    "print(f1)\n",
    "print(f2)\n",
    "print(f3)\n",
    "```\n",
    "\n",
    "**Nota:** *Es importante tener en cuenta que el número de variables y el número de valores debe ser igual, o si no, generará un error.*\n",
    "\n",
    "###**Ejercicio 5**\n",
    "Ejecutar el código del ejemplo 11 y verificar su salida."
   ]
  },
  {
   "cell_type": "code",
   "execution_count": null,
   "metadata": {
    "id": "jmCvb5qe-zc7"
   },
   "outputs": [],
   "source": [
    "#Ejercicio 5\n",
    "#Ejecutar el código del ejemplo 11 y verificar su salida\n"
   ]
  },
  {
   "cell_type": "markdown",
   "metadata": {
    "id": "4-aCuablJods"
   },
   "source": [
    "##Asignar un valor a múltiples variables\n",
    "\n",
    "También Python permite asignar un valor a múltiples variables.\n",
    "\n",
    "###Ejemplo 12:\n",
    "```\n",
    "f1, f2, f3 = \"Manzana\"\n",
    "print(f1)\n",
    "print(f2)\n",
    "print(f3)\n",
    "```\n",
    "\n",
    "###**Ejercicio 6**\n",
    "Ejecutar el código del ejemplo 12 y verificar su salida.\n"
   ]
  },
  {
   "cell_type": "code",
   "execution_count": null,
   "metadata": {
    "id": "SIcC1e0pK8wy"
   },
   "outputs": [],
   "source": [
    "#Ejercicio 6\n",
    "#Ejecutar el código el ejemplo 12 y verificar su salida.\n",
    "\n",
    "f1=f2=f3=\"Manzana\"\n",
    "\n",
    "print(f1)\n",
    "print(f2)\n",
    "print(f3)"
   ]
  },
  {
   "cell_type": "markdown",
   "metadata": {
    "id": "Ct7-omtBLP8g"
   },
   "source": [
    "##Desempaquetar una colección de datos\n",
    "\n",
    "Si se tiene una colección de valores tales como una lista, una tupla, etc, Python permite extraer los valores en variables, esto se denomina desempaquetamiento (*unpacking*)\n",
    "\n",
    "###Ejemplo 13:\n",
    "\n",
    "Desempaquetando una lista\n",
    "```\n",
    "frutas = [\"Naranja\", \"Kiwi\", \"Fresa\", \"Piña\"]\n",
    "n, k, f, p = frutas\n",
    "```\n",
    "\n",
    "###**Ejercicio 7**\n",
    "Imprimir las variables del ejemplo 13 y verificar los resultados."
   ]
  },
  {
   "cell_type": "code",
   "execution_count": null,
   "metadata": {
    "id": "bixmCtHTMFRu"
   },
   "outputs": [],
   "source": [
    "#Ejercicio 7\n",
    "#Imprimir las variables n, k, f, p y verificar sus resultados\n",
    "\n",
    "frutas = [\"Naranja\", \"Kiwi\", \"Fresa\", \"Piña\"]\n",
    "n, k, f, p = frutas\n",
    "\n",
    "booleano = [False, True, True]\n",
    "a, b, c = booleano\n",
    "\n"
   ]
  },
  {
   "cell_type": "markdown",
   "metadata": {
    "id": "AbIsvBR1uoPq"
   },
   "source": [
    "\n",
    "\n",
    "##Comentarios\n",
    "\n",
    "Al igual que con otros lenguajes de programación, en Python es posible realizar comentarios para porpósito de documentación en el código fuente.\n",
    "\n",
    "* Una línea comentada inicia con el caracter `#`. Una línea comentada puede ser colocada en cualquier lugar del código.\n",
    "* Varias líneas de comentario inician y terminan con tres comillas  `\"\"\"`.\n",
    "\n",
    "\n",
    "###Ejemplo 14:\n",
    "Usos de los comentarios en Python"
   ]
  },
  {
   "cell_type": "code",
   "execution_count": null,
   "metadata": {
    "id": "9uw06VvGraCX"
   },
   "outputs": [],
   "source": [
    "#Este es un comentario\n",
    "print(\"Esto no es un comentario\")\n",
    "\n",
    "\"\"\"\n",
    "Primera línea comentada\n",
    "Segunda línea comentada\n",
    "Tercera línea comentada\n",
    "\"\"\"\n",
    "\n",
    "'''\n",
    "Párrafo\n",
    "Párrafo2\n",
    "'''\n",
    "\n",
    "print(\"Terminaron los comentarios\") #Un comentario puede ser colocado al lado de una línea de código funcional.\n"
   ]
  },
  {
   "cell_type": "markdown",
   "metadata": {
    "id": "v6kGHyebM617"
   },
   "source": [
    "##Variables de salida\n",
    "\n",
    "La función `print()` es usada con frecuencia para mostrar el valor de una variable de salida.\n",
    "\n",
    "###Ejemplo 15:\n",
    "```\n",
    "x = \"Python es maravilloso!!\"\n",
    "print(x)\n",
    "```\n",
    "\n",
    "La función `print()` también puede usarse para mostrar el resultado de múltiples variables separadas por comas (`,`).\n",
    "\n",
    "###Ejemplo 16:\n",
    "```\n",
    "x = 'Python '\n",
    "y = 'es '\n",
    "z = 'maravilloso!!'\n",
    "print(x,y,z)\n",
    "```\n",
    "\n",
    "También se puede usar el operador `+` para desplegar el resultado de variables múltiples.\n",
    "\n",
    "###Ejemplo 17:\n",
    "```\n",
    "x = 'Python '\n",
    "y = 'es '\n",
    "z = 'maravilloso!!'\n",
    "print(x+y+z)\n",
    "```\n",
    "\n",
    "En el caso de los números el operador `+` funciona como operador de suma.\n",
    "\n",
    "###Ejemplo 18:\n",
    "```\n",
    "a = 15\n",
    "y = 20\n",
    "print(x+y)\n",
    "```\n",
    "\n",
    "Sin embargo, el operador `+` en la función `print()` no permite combinar cadenas de caracteres (`str`) con números (`int` o `float`, entre otros), ya que generará un error de sintaxis.\n",
    "\n",
    "###Ejemplo 19:\n",
    "```\n",
    "x = \"Edad: \"\n",
    "y = 19\n",
    "print(x+y)\n",
    "#El código anterior generará un error.\n",
    "```\n",
    "**Nota:** *La forma ideal de mostrar el resultado de múltiples variables a través de la función `print()` es separar las variables por comas (`,`) para poder soportar diferentes tipos de datos en la misma función.*\n",
    "\n",
    "###Ejemplo 20:\n",
    "```\n",
    "x = \"Edad: \"\n",
    "y = 19\n",
    "print(x,y)\n",
    "```\n",
    "\n",
    "\n",
    "###**Ejercicio 8**\n",
    "\n",
    "Crear tres variables con las siguientes características:\n",
    "1. Una cadena de caracteres 'Mi edad es: '\n",
    "2. Un número entero con la edad.\n",
    "3. Una cadena de caracteres que indique ' años'.\n",
    "\n",
    "De tal manera que imprima \"Mi edad es xx años\", donde xx es un número en años de la edad de quien está desarrollando el código."
   ]
  },
  {
   "cell_type": "code",
   "execution_count": null,
   "metadata": {
    "id": "ecbENfrhmJAc"
   },
   "outputs": [],
   "source": [
    "#Ejercicio 8\n",
    "#Desarrollar el ejercicio usando la función print()\n",
    "\n"
   ]
  },
  {
   "cell_type": "markdown",
   "metadata": {
    "id": "yX8jSjKomXJ1"
   },
   "source": [
    "##Variables globales\n",
    "\n",
    "Son las variables que se crean fuera de una función. Las variables  globales pueden ser usadas tanto fuera como dentro de una función.\n",
    "\n",
    "###Ejemplo 21:\n",
    "En este ejemplo se crea una variable fuera de la función que se usa dentro de la función.\n",
    "\n",
    "```\n",
    "x = \" mundo!!\" #Esta variable es global\n",
    "\n",
    "def miFuncion():\n",
    "  print(\"Hola\" + x)\n",
    "\n",
    "miFuncion()\n",
    "```\n",
    "\n",
    "###**Ejercicio 9**\n",
    "\n",
    "Ejecutar el código del ejemplo 21 y analizar el resultado"
   ]
  },
  {
   "cell_type": "code",
   "execution_count": null,
   "metadata": {
    "id": "ApDheivfnd3b"
   },
   "outputs": [],
   "source": [
    "#Ejercicio 9\n",
    "#Ejecutar el código del ejemplo 21 y analizar el resultado"
   ]
  },
  {
   "cell_type": "markdown",
   "metadata": {
    "id": "eD9KyeX_nids"
   },
   "source": [
    "Si se crea una variable con el mismo nombre dentro de la función, esta variable será local y podrá sólo ser usada dentro de la función. La variable global con el mismo nombre seguirá con el mismo nombre y con su valor original.\n",
    "\n",
    "###Ejemplo 22:\n",
    "```\n",
    "x = \" mundo!!\"\n",
    "\n",
    "def miFuncion():\n",
    "  x = \" a todos!!\"\n",
    "  print(\"Hola\" + x)\n",
    "\n",
    "miFuncion()\n",
    "print(\"Hola\" + x)\n",
    "```\n",
    "\n",
    "###**Ejercicio 10**\n",
    "Ejecutar el código del ejemplo 22 y analizar su resultado."
   ]
  },
  {
   "cell_type": "code",
   "execution_count": null,
   "metadata": {
    "id": "kK_sGkiqo7EW"
   },
   "outputs": [],
   "source": [
    "#Ejercicio 10\n",
    "#Ejecutar el código del ejemplo 22 y analizar su resultado"
   ]
  },
  {
   "cell_type": "markdown",
   "metadata": {
    "id": "ldh5UqNppDhY"
   },
   "source": [
    "###**La palabra clave `global`**\n",
    "\n",
    "Hay que tener en cuenta que al crear una variable dentro de una función, esta variable sólo es local y sólo se puede usar dentro de la función. Si se desea que una variable declarada dentro de una función sea global, se debe usar la palabra clave `global`.\n",
    "\n",
    "###Ejemplo 23:\n",
    "Al usar la palabra clave `global` en una función, la variable se vuelve global\n",
    "\n",
    "```\n",
    "def miFuncion():\n",
    "  global x\n",
    "  x = 5\n",
    "  y = 7\n",
    "  print(x+y)\n",
    "\n",
    "miFuncion()\n",
    "print(x+100)\n",
    "```\n",
    "\n",
    "###**Ejercicio 11**\n",
    "Ejecutar el código del ejemplo 23 y analizar su resultado.\n"
   ]
  },
  {
   "cell_type": "code",
   "execution_count": null,
   "metadata": {
    "id": "IyzsCSSdqLpD"
   },
   "outputs": [],
   "source": [
    "# Ejercicio 11\n",
    "# Ejecutar el código del ejemplo 23 y analizar su resultado"
   ]
  },
  {
   "cell_type": "markdown",
   "metadata": {
    "id": "W3Sy5RO8q9s-"
   },
   "source": [
    "Para cambiar el valor de una variable global dentro de una función, se debe referir a la variable con la palabra clave `global`.\n",
    "\n",
    "###Ejemplo 24:\n",
    "```\n",
    "x = \" mundo!\"\n",
    "\n",
    "def miFuncion():\n",
    "  global x\n",
    "  x = \" a todos!\"\n",
    "\n",
    "miFuncion()\n",
    "print(\"Hola\" + x)\n",
    "```\n",
    "\n",
    "###**Ejercicio 12**\n",
    "\n",
    "Ejecutar el código del ejemplo 24 y analizar el resultado."
   ]
  },
  {
   "cell_type": "code",
   "execution_count": null,
   "metadata": {
    "id": "GuOwYtqbrtL_"
   },
   "outputs": [],
   "source": [
    "#Ejercicio 12\n",
    "#EJecutar el código del ejemplo 24 y analizar el resultado"
   ]
  }
 ],
 "metadata": {
  "colab": {
   "provenance": []
  },
  "gist": {
   "data": {
    "description": "",
    "public": true
   },
   "id": ""
  },
  "kernelspec": {
   "display_name": "Python 3 (ipykernel)",
   "language": "python",
   "name": "python3"
  },
  "language_info": {
   "name": "python"
  }
 },
 "nbformat": 4,
 "nbformat_minor": 1
}
