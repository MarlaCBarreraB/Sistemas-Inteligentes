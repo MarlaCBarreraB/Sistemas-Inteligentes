{
 "cells": [
  {
   "cell_type": "markdown",
   "metadata": {},
   "source": [
    "## Escalares en Python:\n",
    "\n",
    "Un escalar es un número simple que puede ser real o natural.\n",
    "\n",
    "La librería numpy en Python permite definir hasta 24 tipos de escalares. "
   ]
  },
  {
   "cell_type": "code",
   "execution_count": 11,
   "metadata": {},
   "outputs": [
    {
     "data": {
      "text/plain": [
       "(0.1, 0.099975586, 0.0999755859375)"
      ]
     },
     "execution_count": 11,
     "metadata": {},
     "output_type": "execute_result"
    }
   ],
   "source": [
    "import numpy as np\n",
    "\n",
    "#Un ejemplo de escalares y su conversión con Numpy\n",
    "a = np.float16(0.1)\n",
    "b = np.float32(a)\n",
    "c = np.float64(b)\n",
    "a,b,c"
   ]
  },
  {
   "cell_type": "markdown",
   "metadata": {},
   "source": [
    "## Vectores en Python:\n",
    "\n",
    "Son arreglos, sin embargo, la libería numpy tiene una función para convertir listas en arreglos (vectores horizontales)"
   ]
  },
  {
   "cell_type": "code",
   "execution_count": 12,
   "metadata": {},
   "outputs": [
    {
     "data": {
      "text/plain": [
       "array([23, 45,  7])"
      ]
     },
     "execution_count": 12,
     "metadata": {},
     "output_type": "execute_result"
    }
   ],
   "source": [
    "import numpy as np\n",
    "\n",
    "#Se define la lista\n",
    "lista=[23,45,7]\n",
    "l =np.array(lista)\n",
    "l\n"
   ]
  },
  {
   "cell_type": "markdown",
   "metadata": {},
   "source": [
    "#### Operaciones sobre vectores\n",
    "\n",
    "##### Suma, resta, multiplicación, división, producto punto y multiplicación por escalar de vectores usando numpy"
   ]
  },
  {
   "cell_type": "code",
   "execution_count": 13,
   "metadata": {},
   "outputs": [
    {
     "name": "stdout",
     "output_type": "stream",
     "text": [
      "[ 6 10 28 18]\n",
      "[ -2  -4 -16 -12]\n",
      "[  8  21 132  45]\n",
      "[0.5        0.42857143 0.27272727 0.2       ]\n",
      "206\n",
      "[1.4 2.1 4.2 2.1]\n"
     ]
    }
   ],
   "source": [
    "#Se establecen las listas\n",
    "l1 = [2, 3, 6, 3]\n",
    "l2 = [4, 7, 22, 15]\n",
    "\n",
    "#Se definen los vectores\n",
    "v1 = np.array(l1)\n",
    "v2 = np.array(l2)\n",
    "\n",
    "#Suma de vectores\n",
    "sumaV = v1 + v2\n",
    "print(sumaV)\n",
    "\n",
    "#Resta de vectores \n",
    "restaV = v1 - v2\n",
    "print(restaV)\n",
    "\n",
    "#Multiplicación de vectores\n",
    "multiplicaV = v1 * v2\n",
    "print(multiplicaV)\n",
    "\n",
    "#División de vectores\n",
    "divideV = v1/v2\n",
    "print(divideV)\n",
    "\n",
    "#Producto punto\n",
    "productoPunto = v1.dot(v2)\n",
    "print(productoPunto)\n",
    "\n",
    "#Multiplicar por un escalar\n",
    "valorEscalar = 0.7\n",
    "#Multiplicación del vector 1 por el valor escalar\n",
    "multiEscalarv1 = v1 * valorEscalar\n",
    "print(multiEscalarv1)"
   ]
  },
  {
   "cell_type": "markdown",
   "metadata": {},
   "source": [
    "## Matrices en Python:\n",
    "\n",
    "Son arreglos de dos dimensiones donde cada número está identificado por 2 indicadores (fila y columna)"
   ]
  },
  {
   "cell_type": "code",
   "execution_count": 14,
   "metadata": {},
   "outputs": [
    {
     "data": {
      "text/plain": [
       "matrix([[ 2,  4, 39],\n",
       "        [45,  7,  6]])"
      ]
     },
     "execution_count": 14,
     "metadata": {},
     "output_type": "execute_result"
    }
   ],
   "source": [
    "#Definir la matriz\n",
    "m1 = np.matrix('2, 4, 39; 45, 7, 6')\n",
    "m1"
   ]
  },
  {
   "cell_type": "markdown",
   "metadata": {},
   "source": [
    "## Tensores en Python:\n",
    "\n",
    "Los tensores son arreglos multidimensionales (N-D) en una red regular de N-ejes. Son muy importantes para aprendizaje de máquina, aprendizaje profundo y visión por computador, entre otros. "
   ]
  },
  {
   "cell_type": "code",
   "execution_count": 16,
   "metadata": {},
   "outputs": [
    {
     "data": {
      "text/plain": [
       "(2, (3, 3))"
      ]
     },
     "execution_count": 16,
     "metadata": {},
     "output_type": "execute_result"
    }
   ],
   "source": [
    "#Definir un tensor\n",
    "\n",
    "t1 = np.array([[56, 183, 1],\n",
    "             [78, 178, 2],\n",
    "             [50, 165, 0]])\n",
    "t1.ndim, t1.shape"
   ]
  },
  {
   "cell_type": "code",
   "execution_count": null,
   "metadata": {},
   "outputs": [],
   "source": []
  }
 ],
 "metadata": {
  "kernelspec": {
   "display_name": "Python 3 (ipykernel)",
   "language": "python",
   "name": "python3"
  },
  "language_info": {
   "codemirror_mode": {
    "name": "ipython",
    "version": 3
   },
   "file_extension": ".py",
   "mimetype": "text/x-python",
   "name": "python",
   "nbconvert_exporter": "python",
   "pygments_lexer": "ipython3",
   "version": "3.10.6"
  }
 },
 "nbformat": 4,
 "nbformat_minor": 4
}
